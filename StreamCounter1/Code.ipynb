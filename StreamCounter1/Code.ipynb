{
 "cells": [
  {
   "cell_type": "code",
   "execution_count": 1,
   "id": "cdc691b8",
   "metadata": {},
   "outputs": [
    {
     "name": "stdout",
     "output_type": "stream",
     "text": [
      "Saved first frame to: /home/ubuntu/vnet/StreamCounter/frame_0001.jpg\n"
     ]
    }
   ],
   "source": [
    "import cv2\n",
    "import sys\n",
    "\n",
    "VIDEO = \"/home/ubuntu/vnet/StreamCounter/Video.mp4\"\n",
    "OUTPUT = \"/home/ubuntu/vnet/StreamCounter/frame_0001.jpg\"\n",
    "\n",
    "cap = cv2.VideoCapture(VIDEO)\n",
    "if not cap.isOpened():\n",
    "    print(\"Cannot open video:\", VIDEO, file=sys.stderr)\n",
    "    sys.exit(1)\n",
    "\n",
    "ret, frame = cap.read()\n",
    "cap.release()\n",
    "\n",
    "if not ret or frame is None:\n",
    "    print(\"Failed to read first frame.\", file=sys.stderr)\n",
    "    sys.exit(1)\n",
    "\n",
    "cv2.imwrite(OUTPUT, frame)\n",
    "print(\"Saved first frame to:\", OUTPUT)"
   ]
  },
  {
   "cell_type": "code",
   "execution_count": 2,
   "id": "7e64b3cf",
   "metadata": {},
   "outputs": [
    {
     "name": "stdout",
     "output_type": "stream",
     "text": [
      "Saved: /home/ubuntu/vnet/StreamCounter/image_rotated.jpg\n"
     ]
    }
   ],
   "source": [
    "import cv2\n",
    "img_path = \"/home/ubuntu/vnet/StreamCounter/image.jpg\"\n",
    "out_path = \"/home/ubuntu/vnet/StreamCounter/image_rotated.jpg\"\n",
    "\n",
    "img = cv2.imread(img_path)\n",
    "if img is None:\n",
    "    raise SystemExit(\"Cannot open image\")\n",
    "rot = cv2.rotate(img, cv2.ROTATE_90_CLOCKWISE)\n",
    "cv2.imwrite(out_path, rot)\n",
    "print(\"Saved:\", out_path)"
   ]
  },
  {
   "cell_type": "code",
   "execution_count": null,
   "id": "1aae96e8",
   "metadata": {},
   "outputs": [],
   "source": []
  }
 ],
 "metadata": {
  "kernelspec": {
   "display_name": "autovrs",
   "language": "python",
   "name": "python3"
  },
  "language_info": {
   "codemirror_mode": {
    "name": "ipython",
    "version": 3
   },
   "file_extension": ".py",
   "mimetype": "text/x-python",
   "name": "python",
   "nbconvert_exporter": "python",
   "pygments_lexer": "ipython3",
   "version": "3.11.13"
  }
 },
 "nbformat": 4,
 "nbformat_minor": 5
}
